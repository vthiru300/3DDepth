{
 "cells": [
  {
   "cell_type": "code",
   "execution_count": 1,
   "metadata": {},
   "outputs": [
    {
     "name": "stdout",
     "output_type": "stream",
     "text": [
      "2.0.1\n"
     ]
    }
   ],
   "source": [
    "import torch;\n",
    "print(torch.__version__)"
   ]
  },
  {
   "cell_type": "markdown",
   "metadata": {},
   "source": [
    "https://github.com/open-mmlab/mmdetection3d/blob/main/demo/inference_demo.ipynb\n",
    "https://github.com/open-mmlab/mmdetection3d/blob/main/demo/pcd_demo.py"
   ]
  },
  {
   "cell_type": "code",
   "execution_count": 2,
   "metadata": {},
   "outputs": [
    {
     "name": "stdout",
     "output_type": "stream",
     "text": [
      "0.9.0\n"
     ]
    }
   ],
   "source": [
    "import mmengine;\n",
    "print(mmengine.__version__)"
   ]
  },
  {
   "cell_type": "code",
   "execution_count": 3,
   "metadata": {},
   "outputs": [
    {
     "name": "stdout",
     "output_type": "stream",
     "text": [
      "1.2.0\n"
     ]
    }
   ],
   "source": [
    "import mmdet3d\n",
    "print(mmdet3d.__version__)"
   ]
  },
  {
   "cell_type": "code",
   "execution_count": 4,
   "metadata": {},
   "outputs": [],
   "source": [
    "from mmdet3d.apis import LidarDet3DInferencer"
   ]
  },
  {
   "cell_type": "code",
   "execution_count": 6,
   "metadata": {},
   "outputs": [
    {
     "name": "stdout",
     "output_type": "stream",
     "text": [
      "/lts/home/010796032/3DObject/3DDepth/Notebook\n"
     ]
    }
   ],
   "source": [
    "!pwd"
   ]
  },
  {
   "cell_type": "code",
   "execution_count": 7,
   "metadata": {},
   "outputs": [
    {
     "name": "stdout",
     "output_type": "stream",
     "text": [
      "CITATION.cff\n",
      "configs\n",
      "data\n",
      "dataset-index.yml\n",
      "demo\n",
      "docker\n",
      "docs\n",
      "hv_pointpillars_secfpn_6x8_160e_kitti-3d-car_20220331_134606-d42d15ed.pth\n",
      "LICENSE\n",
      "MANIFEST.in\n",
      "mmdet3d\n",
      "mmdet3d.egg-info\n",
      "model-index.yml\n",
      "outputs\n",
      "pointpillars_hv_secfpn_8xb6-160e_kitti-3d-car.py\n",
      "projects\n",
      "README.md\n",
      "README_zh-CN.md\n",
      "requirements\n",
      "requirements.txt\n",
      "resources\n",
      "setup.cfg\n",
      "setup.py\n",
      "tests\n",
      "tools\n"
     ]
    }
   ],
   "source": [
    "!ls ~/3DObject/mmdetection3d"
   ]
  },
  {
   "cell_type": "code",
   "execution_count": 21,
   "metadata": {},
   "outputs": [],
   "source": [
    "configfile=\"/home/010796032/3DObject/mmdetection3d/configs/pointpillars/pointpillars_hv_secfpn_8xb6-160e_kitti-3d-car.py\"\n",
    "weights=\"/home/010796032/3DObject/mmdetection3d/hv_pointpillars_secfpn_6x8_160e_kitti-3d-car_20220331_134606-d42d15ed.pth\""
   ]
  },
  {
   "cell_type": "code",
   "execution_count": 22,
   "metadata": {},
   "outputs": [
    {
     "name": "stderr",
     "output_type": "stream",
     "text": [
      "/lts/home/010796032/3DObject/mmdetection3d/mmdet3d/models/dense_heads/anchor3d_head.py:94: UserWarning: dir_offset and dir_limit_offset will be depressed and be incorporated into box coder in the future\n",
      "  warnings.warn(\n",
      "/home/010796032/miniconda3/envs/mycondapy310/lib/python3.10/site-packages/mmengine/visualization/visualizer.py:196: UserWarning: Failed to add <class 'mmengine.visualization.vis_backend.LocalVisBackend'>, please provide the `save_dir` argument.\n",
      "  warnings.warn(f'Failed to add {vis_backend.__class__}, '\n"
     ]
    },
    {
     "name": "stdout",
     "output_type": "stream",
     "text": [
      "Loads checkpoint by local backend from path: /home/010796032/3DObject/mmdetection3d/hv_pointpillars_secfpn_6x8_160e_kitti-3d-car_20220331_134606-d42d15ed.pth\n"
     ]
    }
   ],
   "source": [
    "# initialize inferencer\n",
    "inferencer = LidarDet3DInferencer(model=configfile, weights=weights, device='cuda:0') #('pointpillars_kitti-3class')"
   ]
  },
  {
   "cell_type": "code",
   "execution_count": 26,
   "metadata": {},
   "outputs": [
    {
     "data": {
      "text/html": [
       "<pre style=\"white-space:pre;overflow-x:auto;line-height:normal;font-family:Menlo,'DejaVu Sans Mono',consolas,'Courier New',monospace\">/home/010796032/miniconda3/envs/mycondapy310/lib/python3.10/site-packages/rich/live.py:231: UserWarning: install \n",
       "\"ipywidgets\" for Jupyter support\n",
       "  warnings.warn('install \"ipywidgets\" for Jupyter support')\n",
       "</pre>\n"
      ],
      "text/plain": [
       "/home/010796032/miniconda3/envs/mycondapy310/lib/python3.10/site-packages/rich/live.py:231: UserWarning: install \n",
       "\"ipywidgets\" for Jupyter support\n",
       "  warnings.warn('install \"ipywidgets\" for Jupyter support')\n"
      ]
     },
     "metadata": {},
     "output_type": "display_data"
    },
    {
     "data": {
      "text/html": [
       "<pre style=\"white-space:pre;overflow-x:auto;line-height:normal;font-family:Menlo,'DejaVu Sans Mono',consolas,'Courier New',monospace\"></pre>\n"
      ],
      "text/plain": []
     },
     "metadata": {},
     "output_type": "display_data"
    },
    {
     "data": {
      "text/html": [
       "<pre style=\"white-space:pre;overflow-x:auto;line-height:normal;font-family:Menlo,'DejaVu Sans Mono',consolas,'Courier New',monospace\">\n",
       "</pre>\n"
      ],
      "text/plain": [
       "\n"
      ]
     },
     "metadata": {},
     "output_type": "display_data"
    }
   ],
   "source": [
    "# inference\n",
    "pointspath=\"/home/010796032/3DObject/mmdetection3d/demo/data/kitti/000008.bin\"\n",
    "inputs = dict(points=pointspath)\n",
    "results=inferencer(inputs)"
   ]
  },
  {
   "cell_type": "code",
   "execution_count": 27,
   "metadata": {},
   "outputs": [
    {
     "data": {
      "text/plain": [
       "{'predictions': [{'labels_3d': [0, 0, 0, 0, 0, 0, 0, 0, 0, 0],\n",
       "   'scores_3d': [0.9750590920448303,\n",
       "    0.9682098627090454,\n",
       "    0.9457541108131409,\n",
       "    0.8904030919075012,\n",
       "    0.8890073299407959,\n",
       "    0.7703604698181152,\n",
       "    0.7550405859947205,\n",
       "    0.7058141827583313,\n",
       "    0.5811426639556885,\n",
       "    0.44102343916893005],\n",
       "   'bboxes_3d': [[14.75867748260498,\n",
       "     -1.0537946224212646,\n",
       "     -1.5589320659637451,\n",
       "     3.7562406063079834,\n",
       "     1.6059986352920532,\n",
       "     1.558688998222351,\n",
       "     -0.31321752071380615],\n",
       "    [6.438138961791992,\n",
       "     -3.8679745197296143,\n",
       "     -1.7354645729064941,\n",
       "     3.147707223892212,\n",
       "     1.4599915742874146,\n",
       "     1.4284530878067017,\n",
       "     -0.2998310327529907],\n",
       "    [8.112329483032227,\n",
       "     1.216971516609192,\n",
       "     -1.6341216564178467,\n",
       "     3.6662495136260986,\n",
       "     1.573140025138855,\n",
       "     1.5916767120361328,\n",
       "     2.8161733150482178],\n",
       "    [20.169925689697266,\n",
       "     -8.43094253540039,\n",
       "     -1.6689856052398682,\n",
       "     2.381495237350464,\n",
       "     1.51751708984375,\n",
       "     1.5693042278289795,\n",
       "     -0.3255223035812378],\n",
       "    [33.455665588378906,\n",
       "     -7.035743236541748,\n",
       "     -1.3376567363739014,\n",
       "     4.213741302490234,\n",
       "     1.744563102722168,\n",
       "     1.6697136163711548,\n",
       "     2.828497886657715],\n",
       "    [55.621891021728516,\n",
       "     -20.328449249267578,\n",
       "     -1.3771171569824219,\n",
       "     4.370689392089844,\n",
       "     1.7358696460723877,\n",
       "     1.7066415548324585,\n",
       "     2.8504137992858887],\n",
       "    [3.637699842453003,\n",
       "     2.7381889820098877,\n",
       "     -1.6892050504684448,\n",
       "     3.7212045192718506,\n",
       "     1.5820955038070679,\n",
       "     1.51765775680542,\n",
       "     -0.2304447889328003],\n",
       "    [25.04075050354004,\n",
       "     -10.156379699707031,\n",
       "     -1.6326467990875244,\n",
       "     3.739389181137085,\n",
       "     1.6084976196289062,\n",
       "     1.4840202331542969,\n",
       "     -0.32967936992645264],\n",
       "    [28.72532081604004,\n",
       "     -1.552423357963562,\n",
       "     -1.202379822731018,\n",
       "     3.69446063041687,\n",
       "     1.5429767370224,\n",
       "     1.5610381364822388,\n",
       "     1.2416549921035767],\n",
       "    [40.87098693847656,\n",
       "     -9.748966217041016,\n",
       "     -1.3669469356536865,\n",
       "     3.8333828449249268,\n",
       "     1.6528679132461548,\n",
       "     1.5699278116226196,\n",
       "     -0.28837358951568604]],\n",
       "   'box_type_3d': 'LiDAR'}],\n",
       " 'visualization': []}"
      ]
     },
     "execution_count": 27,
     "metadata": {},
     "output_type": "execute_result"
    }
   ],
   "source": [
    "results"
   ]
  },
  {
   "cell_type": "code",
   "execution_count": 28,
   "metadata": {},
   "outputs": [
    {
     "data": {
      "text/plain": [
       "dict_keys(['predictions', 'visualization'])"
      ]
     },
     "execution_count": 28,
     "metadata": {},
     "output_type": "execute_result"
    }
   ],
   "source": [
    "results.keys()"
   ]
  },
  {
   "cell_type": "code",
   "execution_count": 29,
   "metadata": {},
   "outputs": [],
   "source": [
    "pred=results['predictions']"
   ]
  },
  {
   "cell_type": "code",
   "execution_count": 31,
   "metadata": {},
   "outputs": [
    {
     "data": {
      "text/plain": [
       "1"
      ]
     },
     "execution_count": 31,
     "metadata": {},
     "output_type": "execute_result"
    }
   ],
   "source": [
    "len(pred)"
   ]
  },
  {
   "cell_type": "code",
   "execution_count": 32,
   "metadata": {},
   "outputs": [
    {
     "data": {
      "text/plain": [
       "dict_keys(['labels_3d', 'scores_3d', 'bboxes_3d', 'box_type_3d'])"
      ]
     },
     "execution_count": 32,
     "metadata": {},
     "output_type": "execute_result"
    }
   ],
   "source": [
    "pred[0].keys()"
   ]
  },
  {
   "cell_type": "code",
   "execution_count": 35,
   "metadata": {},
   "outputs": [
    {
     "data": {
      "text/plain": [
       "[0, 0, 0, 0, 0, 0, 0, 0, 0, 0]"
      ]
     },
     "execution_count": 35,
     "metadata": {},
     "output_type": "execute_result"
    }
   ],
   "source": [
    "pred[0]['labels_3d']"
   ]
  },
  {
   "cell_type": "code",
   "execution_count": 36,
   "metadata": {},
   "outputs": [
    {
     "data": {
      "text/plain": [
       "[0.9750590920448303,\n",
       " 0.9682098627090454,\n",
       " 0.9457541108131409,\n",
       " 0.8904030919075012,\n",
       " 0.8890073299407959,\n",
       " 0.7703604698181152,\n",
       " 0.7550405859947205,\n",
       " 0.7058141827583313,\n",
       " 0.5811426639556885,\n",
       " 0.44102343916893005]"
      ]
     },
     "execution_count": 36,
     "metadata": {},
     "output_type": "execute_result"
    }
   ],
   "source": [
    "pred[0]['scores_3d']"
   ]
  },
  {
   "cell_type": "code",
   "execution_count": 38,
   "metadata": {},
   "outputs": [],
   "source": [
    "bboxes=pred[0]['bboxes_3d']"
   ]
  },
  {
   "cell_type": "code",
   "execution_count": 41,
   "metadata": {},
   "outputs": [
    {
     "data": {
      "text/plain": [
       "10"
      ]
     },
     "execution_count": 41,
     "metadata": {},
     "output_type": "execute_result"
    }
   ],
   "source": [
    "len(bboxes)"
   ]
  },
  {
   "cell_type": "code",
   "execution_count": 42,
   "metadata": {},
   "outputs": [
    {
     "data": {
      "text/plain": [
       "[14.75867748260498,\n",
       " -1.0537946224212646,\n",
       " -1.5589320659637451,\n",
       " 3.7562406063079834,\n",
       " 1.6059986352920532,\n",
       " 1.558688998222351,\n",
       " -0.31321752071380615]"
      ]
     },
     "execution_count": 42,
     "metadata": {},
     "output_type": "execute_result"
    }
   ],
   "source": [
    "bboxes[0]"
   ]
  },
  {
   "cell_type": "code",
   "execution_count": 43,
   "metadata": {},
   "outputs": [
    {
     "data": {
      "text/plain": [
       "'LiDAR'"
      ]
     },
     "execution_count": 43,
     "metadata": {},
     "output_type": "execute_result"
    }
   ],
   "source": [
    "pred[0]['box_type_3d']"
   ]
  }
 ],
 "metadata": {
  "kernelspec": {
   "display_name": "mycondapy310",
   "language": "python",
   "name": "mycondapy310"
  },
  "language_info": {
   "codemirror_mode": {
    "name": "ipython",
    "version": 3
   },
   "file_extension": ".py",
   "mimetype": "text/x-python",
   "name": "python",
   "nbconvert_exporter": "python",
   "pygments_lexer": "ipython3",
   "version": "3.10.11"
  }
 },
 "nbformat": 4,
 "nbformat_minor": 2
}
